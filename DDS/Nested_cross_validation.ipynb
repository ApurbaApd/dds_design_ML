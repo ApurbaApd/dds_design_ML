{
 "cells": [
  {
   "cell_type": "code",
   "execution_count": 1,
   "id": "2d60b412",
   "metadata": {},
   "outputs": [
    {
     "name": "stdout",
     "output_type": "stream",
     "text": [
      ">acc=0.900, est=0.932, cfg={'max_features': 4, 'n_estimators': 100}\n",
      ">acc=0.940, est=0.924, cfg={'max_features': 4, 'n_estimators': 500}\n",
      ">acc=0.930, est=0.929, cfg={'max_features': 4, 'n_estimators': 500}\n",
      ">acc=0.930, est=0.927, cfg={'max_features': 6, 'n_estimators': 100}\n",
      ">acc=0.920, est=0.927, cfg={'max_features': 4, 'n_estimators': 100}\n",
      ">acc=0.950, est=0.927, cfg={'max_features': 4, 'n_estimators': 500}\n",
      ">acc=0.910, est=0.918, cfg={'max_features': 2, 'n_estimators': 100}\n",
      ">acc=0.930, est=0.924, cfg={'max_features': 6, 'n_estimators': 500}\n",
      ">acc=0.960, est=0.926, cfg={'max_features': 2, 'n_estimators': 500}\n",
      ">acc=0.900, est=0.937, cfg={'max_features': 4, 'n_estimators': 500}\n",
      "Accuracy: 0.927 (0.019)\n"
     ]
    }
   ],
   "source": [
    "\n",
    "# manual nested cross-validation for random forest on a classification dataset\n",
    "from numpy import mean\n",
    "from numpy import std\n",
    "from sklearn.datasets import make_classification\n",
    "from sklearn.model_selection import KFold\n",
    "from sklearn.model_selection import GridSearchCV\n",
    "from sklearn.ensemble import RandomForestClassifier\n",
    "from sklearn.metrics import accuracy_score\n",
    "# create dataset\n",
    "X, y = make_classification(n_samples=1000, n_features=20, random_state=1, n_informative=10, n_redundant=10)\n",
    "# configure the cross-validation procedure\n",
    "cv_outer = KFold(n_splits=10, shuffle=True, random_state=1)\n",
    "# enumerate splits\n",
    "outer_results = list()\n",
    "for train_ix, test_ix in cv_outer.split(X):\n",
    " # split data\n",
    " X_train, X_test = X[train_ix, :], X[test_ix, :]\n",
    " y_train, y_test = y[train_ix], y[test_ix]\n",
    " # configure the cross-validation procedure\n",
    " cv_inner = KFold(n_splits=3, shuffle=True, random_state=1)\n",
    " # define the model\n",
    " model = RandomForestClassifier(random_state=1)\n",
    " # define search space\n",
    " space = dict()\n",
    " space['n_estimators'] = [10, 100, 500]\n",
    " space['max_features'] = [2, 4, 6]\n",
    " # define search\n",
    " search = GridSearchCV(model, space, scoring='accuracy', cv=cv_inner, refit=True)\n",
    " # execute search\n",
    " result = search.fit(X_train, y_train)\n",
    " # get the best performing model fit on the whole training set\n",
    " best_model = result.best_estimator_\n",
    " # evaluate model on the hold out dataset\n",
    " yhat = best_model.predict(X_test)\n",
    " # evaluate the model\n",
    " acc = accuracy_score(y_test, yhat)\n",
    " # store the result\n",
    " outer_results.append(acc)\n",
    " # report progress\n",
    " print('>acc=%.3f, est=%.3f, cfg=%s' % (acc, result.best_score_, result.best_params_))\n",
    "# summarize the estimated performance of the model\n",
    "print('Accuracy: %.3f (%.3f)' % (mean(outer_results), std(outer_results)))"
   ]
  },
  {
   "cell_type": "code",
   "execution_count": null,
   "id": "cd729692",
   "metadata": {},
   "outputs": [],
   "source": []
  }
 ],
 "metadata": {
  "kernelspec": {
   "display_name": "Python 3 (ipykernel)",
   "language": "python",
   "name": "python3"
  },
  "language_info": {
   "codemirror_mode": {
    "name": "ipython",
    "version": 3
   },
   "file_extension": ".py",
   "mimetype": "text/x-python",
   "name": "python",
   "nbconvert_exporter": "python",
   "pygments_lexer": "ipython3",
   "version": "3.11.5"
  }
 },
 "nbformat": 4,
 "nbformat_minor": 5
}
